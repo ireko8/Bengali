{
 "cells": [
  {
   "cell_type": "code",
   "execution_count": 46,
   "metadata": {},
   "outputs": [
    {
     "name": "stdout",
     "output_type": "stream",
     "text": [
      "\n",
      "PackageNotInstalledError: Package is not installed in prefix.\n",
      "  prefix: /home/korei/anaconda3\n",
      "  package name: albumentation\n",
      "\n",
      "\n"
     ]
    }
   ],
   "source": [
    "!conda upgrade albumentation"
   ]
  },
  {
   "cell_type": "code",
   "execution_count": 1,
   "metadata": {},
   "outputs": [],
   "source": [
    "%matplotlib inline\n",
    "import random\n",
    "import numpy as np\n",
    "import pandas as pd\n",
    "import PIL.Image\n",
    "import seaborn as sns\n",
    "from albumentations import Compose, ShiftScaleRotate, Cutout, IAAAdditiveGaussianNoise, OpticalDistortion, GridDistortion, ElasticTransform"
   ]
  },
  {
   "cell_type": "code",
   "execution_count": 2,
   "metadata": {},
   "outputs": [],
   "source": [
    "images = np.load(\"../input/train_128x128_crop.npy\")\n",
    "val = pd.read_csv(\"../input/val_index.csv\")\n",
    "cm = pd.read_csv(\"../input/class_map.csv\")\n",
    "preds = np.load(\"../result/baseline_2020_02_20_14_35_56/val_preds_0.npy\")"
   ]
  },
  {
   "cell_type": "code",
   "execution_count": 3,
   "metadata": {},
   "outputs": [],
   "source": [
    "val[[\"pred_gr\", \"pred_vd\", \"pred_cd\"]] = pd.DataFrame(preds)"
   ]
  },
  {
   "cell_type": "code",
   "execution_count": 4,
   "metadata": {},
   "outputs": [],
   "source": [
    "val[\"ind\"] = val.image_id.apply(lambda x: int(x.split(\"_\")[1]))"
   ]
  },
  {
   "cell_type": "code",
   "execution_count": 6,
   "metadata": {},
   "outputs": [],
   "source": [
    "def crop_char_image(image, threshold=25):\n",
    "    assert image.ndim == 2\n",
    "    is_black = image < threshold\n",
    "\n",
    "    is_black_vertical = np.sum(is_black, axis=0) > 0\n",
    "    is_black_horizontal = np.sum(is_black, axis=1) > 0\n",
    "    left = np.argmax(is_black_horizontal)\n",
    "    right = np.argmax(is_black_horizontal[::-1])\n",
    "    top = np.argmax(is_black_vertical)\n",
    "    bottom = np.argmax(is_black_vertical[::-1])\n",
    "    print(left, right, top, bottom)\n",
    "    height, width = image.shape\n",
    "    cropped_image = image[left-20:height - right+20, top-20:width - bottom+20]\n",
    "    return cropped_image"
   ]
  },
  {
   "cell_type": "code",
   "execution_count": 5,
   "metadata": {},
   "outputs": [],
   "source": [
    "aug = Compose([\n",
    "    ShiftScaleRotate(rotate_limit=15, p=1),\n",
    "#     IAAAdditiveGaussianNoise(p=1),\n",
    "#     OpticalDistortion(p=1),\n",
    "#     GridDistortion(p=1),\n",
    "#     ElasticTransform(p=1),    \n",
    "    Cutout(max_h_size=12, max_w_size=12, p=1)\n",
    "])"
   ]
  },
  {
   "cell_type": "code",
   "execution_count": 6,
   "metadata": {},
   "outputs": [
    {
     "data": {
      "text/plain": [
       "array(['grapheme_root', 'vowel_diacritic', 'consonant_diacritic'],\n",
       "      dtype=object)"
      ]
     },
     "execution_count": 6,
     "metadata": {},
     "output_type": "execute_result"
    }
   ],
   "source": [
    "cm.component_type.unique()"
   ]
  },
  {
   "cell_type": "code",
   "execution_count": 7,
   "metadata": {},
   "outputs": [],
   "source": [
    "cm_gr = cm[cm.component_type == \"grapheme_root\"]\n",
    "cm_vd = cm[cm.component_type == \"vowel_diacritic\"].reset_index()\n",
    "cm_cd = cm[cm.component_type == \"consonant_diacritic\"].reset_index()"
   ]
  },
  {
   "cell_type": "code",
   "execution_count": 8,
   "metadata": {},
   "outputs": [],
   "source": [
    "val[\"gr_letter\"] = val.grapheme_root.map(cm_gr.component)\n",
    "val[\"cd_letter\"] = val.consonant_diacritic.map(cm_cd.component)\n",
    "val[\"vd_letter\"] = val.vowel_diacritic.map(cm_vd.component)\n",
    "val[\"gr_pred_letter\"] = val.pred_gr.map(cm_gr.component)\n",
    "val[\"cd_pred_letter\"] = val.pred_cd.map(cm_cd.component)\n",
    "val[\"vd_pred_letter\"] = val.pred_vd.map(cm_vd.component)"
   ]
  },
  {
   "cell_type": "code",
   "execution_count": 9,
   "metadata": {},
   "outputs": [
    {
     "data": {
      "text/html": [
       "<div>\n",
       "<style scoped>\n",
       "    .dataframe tbody tr th:only-of-type {\n",
       "        vertical-align: middle;\n",
       "    }\n",
       "\n",
       "    .dataframe tbody tr th {\n",
       "        vertical-align: top;\n",
       "    }\n",
       "\n",
       "    .dataframe thead th {\n",
       "        text-align: right;\n",
       "    }\n",
       "</style>\n",
       "<table border=\"1\" class=\"dataframe\">\n",
       "  <thead>\n",
       "    <tr style=\"text-align: right;\">\n",
       "      <th></th>\n",
       "      <th>Unnamed: 0</th>\n",
       "      <th>image_id</th>\n",
       "      <th>grapheme_root</th>\n",
       "      <th>vowel_diacritic</th>\n",
       "      <th>consonant_diacritic</th>\n",
       "      <th>grapheme</th>\n",
       "      <th>pred_gr</th>\n",
       "      <th>pred_vd</th>\n",
       "      <th>pred_cd</th>\n",
       "      <th>ind</th>\n",
       "      <th>gr_letter</th>\n",
       "      <th>cd_letter</th>\n",
       "      <th>vd_letter</th>\n",
       "      <th>gr_pred_letter</th>\n",
       "      <th>cd_pred_letter</th>\n",
       "      <th>vd_pred_letter</th>\n",
       "    </tr>\n",
       "  </thead>\n",
       "  <tbody>\n",
       "    <tr>\n",
       "      <td>0</td>\n",
       "      <td>0</td>\n",
       "      <td>Train_8</td>\n",
       "      <td>67</td>\n",
       "      <td>0</td>\n",
       "      <td>0</td>\n",
       "      <td>ত্থ</td>\n",
       "      <td>67</td>\n",
       "      <td>0</td>\n",
       "      <td>0</td>\n",
       "      <td>8</td>\n",
       "      <td>ত্থ</td>\n",
       "      <td>0</td>\n",
       "      <td>0</td>\n",
       "      <td>ত্থ</td>\n",
       "      <td>0</td>\n",
       "      <td>0</td>\n",
       "    </tr>\n",
       "    <tr>\n",
       "      <td>1</td>\n",
       "      <td>1</td>\n",
       "      <td>Train_29</td>\n",
       "      <td>160</td>\n",
       "      <td>0</td>\n",
       "      <td>0</td>\n",
       "      <td>হ্ন</td>\n",
       "      <td>160</td>\n",
       "      <td>0</td>\n",
       "      <td>0</td>\n",
       "      <td>29</td>\n",
       "      <td>হ্ন</td>\n",
       "      <td>0</td>\n",
       "      <td>0</td>\n",
       "      <td>হ্ন</td>\n",
       "      <td>0</td>\n",
       "      <td>0</td>\n",
       "    </tr>\n",
       "    <tr>\n",
       "      <td>2</td>\n",
       "      <td>2</td>\n",
       "      <td>Train_32</td>\n",
       "      <td>103</td>\n",
       "      <td>1</td>\n",
       "      <td>5</td>\n",
       "      <td>ফ্রা</td>\n",
       "      <td>103</td>\n",
       "      <td>1</td>\n",
       "      <td>5</td>\n",
       "      <td>32</td>\n",
       "      <td>ফ</td>\n",
       "      <td>্র</td>\n",
       "      <td>া</td>\n",
       "      <td>ফ</td>\n",
       "      <td>্র</td>\n",
       "      <td>া</td>\n",
       "    </tr>\n",
       "    <tr>\n",
       "      <td>3</td>\n",
       "      <td>3</td>\n",
       "      <td>Train_41</td>\n",
       "      <td>23</td>\n",
       "      <td>4</td>\n",
       "      <td>0</td>\n",
       "      <td>গু</td>\n",
       "      <td>23</td>\n",
       "      <td>4</td>\n",
       "      <td>0</td>\n",
       "      <td>41</td>\n",
       "      <td>গ</td>\n",
       "      <td>0</td>\n",
       "      <td>ু</td>\n",
       "      <td>গ</td>\n",
       "      <td>0</td>\n",
       "      <td>ু</td>\n",
       "    </tr>\n",
       "    <tr>\n",
       "      <td>4</td>\n",
       "      <td>4</td>\n",
       "      <td>Train_52</td>\n",
       "      <td>43</td>\n",
       "      <td>1</td>\n",
       "      <td>4</td>\n",
       "      <td>জ্যা</td>\n",
       "      <td>43</td>\n",
       "      <td>1</td>\n",
       "      <td>4</td>\n",
       "      <td>52</td>\n",
       "      <td>জ</td>\n",
       "      <td>্য</td>\n",
       "      <td>া</td>\n",
       "      <td>জ</td>\n",
       "      <td>্য</td>\n",
       "      <td>া</td>\n",
       "    </tr>\n",
       "    <tr>\n",
       "      <td>...</td>\n",
       "      <td>...</td>\n",
       "      <td>...</td>\n",
       "      <td>...</td>\n",
       "      <td>...</td>\n",
       "      <td>...</td>\n",
       "      <td>...</td>\n",
       "      <td>...</td>\n",
       "      <td>...</td>\n",
       "      <td>...</td>\n",
       "      <td>...</td>\n",
       "      <td>...</td>\n",
       "      <td>...</td>\n",
       "      <td>...</td>\n",
       "      <td>...</td>\n",
       "      <td>...</td>\n",
       "      <td>...</td>\n",
       "    </tr>\n",
       "    <tr>\n",
       "      <td>40163</td>\n",
       "      <td>40163</td>\n",
       "      <td>Train_200829</td>\n",
       "      <td>81</td>\n",
       "      <td>4</td>\n",
       "      <td>0</td>\n",
       "      <td>নু</td>\n",
       "      <td>81</td>\n",
       "      <td>4</td>\n",
       "      <td>0</td>\n",
       "      <td>200829</td>\n",
       "      <td>ন</td>\n",
       "      <td>0</td>\n",
       "      <td>ু</td>\n",
       "      <td>ন</td>\n",
       "      <td>0</td>\n",
       "      <td>ু</td>\n",
       "    </tr>\n",
       "    <tr>\n",
       "      <td>40164</td>\n",
       "      <td>40164</td>\n",
       "      <td>Train_200830</td>\n",
       "      <td>39</td>\n",
       "      <td>2</td>\n",
       "      <td>0</td>\n",
       "      <td>চ্চি</td>\n",
       "      <td>39</td>\n",
       "      <td>2</td>\n",
       "      <td>0</td>\n",
       "      <td>200830</td>\n",
       "      <td>চ্চ</td>\n",
       "      <td>0</td>\n",
       "      <td>ি</td>\n",
       "      <td>চ্চ</td>\n",
       "      <td>0</td>\n",
       "      <td>ি</td>\n",
       "    </tr>\n",
       "    <tr>\n",
       "      <td>40165</td>\n",
       "      <td>40165</td>\n",
       "      <td>Train_200831</td>\n",
       "      <td>81</td>\n",
       "      <td>9</td>\n",
       "      <td>2</td>\n",
       "      <td>র্নো</td>\n",
       "      <td>81</td>\n",
       "      <td>9</td>\n",
       "      <td>2</td>\n",
       "      <td>200831</td>\n",
       "      <td>ন</td>\n",
       "      <td>র্</td>\n",
       "      <td>ো</td>\n",
       "      <td>ন</td>\n",
       "      <td>র্</td>\n",
       "      <td>ো</td>\n",
       "    </tr>\n",
       "    <tr>\n",
       "      <td>40166</td>\n",
       "      <td>40166</td>\n",
       "      <td>Train_200836</td>\n",
       "      <td>65</td>\n",
       "      <td>9</td>\n",
       "      <td>0</td>\n",
       "      <td>ত্তো</td>\n",
       "      <td>65</td>\n",
       "      <td>9</td>\n",
       "      <td>0</td>\n",
       "      <td>200836</td>\n",
       "      <td>ত্ত</td>\n",
       "      <td>0</td>\n",
       "      <td>ো</td>\n",
       "      <td>ত্ত</td>\n",
       "      <td>0</td>\n",
       "      <td>ো</td>\n",
       "    </tr>\n",
       "    <tr>\n",
       "      <td>40167</td>\n",
       "      <td>40167</td>\n",
       "      <td>Train_200839</td>\n",
       "      <td>127</td>\n",
       "      <td>2</td>\n",
       "      <td>0</td>\n",
       "      <td>ল্টি</td>\n",
       "      <td>127</td>\n",
       "      <td>2</td>\n",
       "      <td>0</td>\n",
       "      <td>200839</td>\n",
       "      <td>ল্ট</td>\n",
       "      <td>0</td>\n",
       "      <td>ি</td>\n",
       "      <td>ল্ট</td>\n",
       "      <td>0</td>\n",
       "      <td>ি</td>\n",
       "    </tr>\n",
       "  </tbody>\n",
       "</table>\n",
       "<p>40168 rows × 16 columns</p>\n",
       "</div>"
      ],
      "text/plain": [
       "       Unnamed: 0      image_id  grapheme_root  vowel_diacritic  \\\n",
       "0               0       Train_8             67                0   \n",
       "1               1      Train_29            160                0   \n",
       "2               2      Train_32            103                1   \n",
       "3               3      Train_41             23                4   \n",
       "4               4      Train_52             43                1   \n",
       "...           ...           ...            ...              ...   \n",
       "40163       40163  Train_200829             81                4   \n",
       "40164       40164  Train_200830             39                2   \n",
       "40165       40165  Train_200831             81                9   \n",
       "40166       40166  Train_200836             65                9   \n",
       "40167       40167  Train_200839            127                2   \n",
       "\n",
       "       consonant_diacritic grapheme  pred_gr  pred_vd  pred_cd     ind  \\\n",
       "0                        0      ত্থ       67        0        0       8   \n",
       "1                        0      হ্ন      160        0        0      29   \n",
       "2                        5     ফ্রা      103        1        5      32   \n",
       "3                        0       গু       23        4        0      41   \n",
       "4                        4     জ্যা       43        1        4      52   \n",
       "...                    ...      ...      ...      ...      ...     ...   \n",
       "40163                    0       নু       81        4        0  200829   \n",
       "40164                    0     চ্চি       39        2        0  200830   \n",
       "40165                    2     র্নো       81        9        2  200831   \n",
       "40166                    0     ত্তো       65        9        0  200836   \n",
       "40167                    0     ল্টি      127        2        0  200839   \n",
       "\n",
       "      gr_letter cd_letter vd_letter gr_pred_letter cd_pred_letter  \\\n",
       "0           ত্থ         0         0            ত্থ              0   \n",
       "1           হ্ন         0         0            হ্ন              0   \n",
       "2             ফ        ্র         া              ফ             ্র   \n",
       "3             গ         0         ু              গ              0   \n",
       "4             জ        ্য         া              জ             ্য   \n",
       "...         ...       ...       ...            ...            ...   \n",
       "40163         ন         0         ু              ন              0   \n",
       "40164       চ্চ         0         ি            চ্চ              0   \n",
       "40165         ন        র্         ো              ন             র্   \n",
       "40166       ত্ত         0         ো            ত্ত              0   \n",
       "40167       ল্ট         0         ি            ল্ট              0   \n",
       "\n",
       "      vd_pred_letter  \n",
       "0                  0  \n",
       "1                  0  \n",
       "2                  া  \n",
       "3                  ু  \n",
       "4                  া  \n",
       "...              ...  \n",
       "40163              ু  \n",
       "40164              ি  \n",
       "40165              ো  \n",
       "40166              ো  \n",
       "40167              ি  \n",
       "\n",
       "[40168 rows x 16 columns]"
      ]
     },
     "execution_count": 9,
     "metadata": {},
     "output_type": "execute_result"
    }
   ],
   "source": [
    "val"
   ]
  },
  {
   "cell_type": "code",
   "execution_count": 10,
   "metadata": {},
   "outputs": [],
   "source": [
    "miss_gr = val[val.grapheme_root != val.pred_gr]"
   ]
  },
  {
   "cell_type": "code",
   "execution_count": 12,
   "metadata": {},
   "outputs": [
    {
     "name": "stdout",
     "output_type": "stream",
     "text": [
      "45 Unnamed: 0                    4335\n",
      "image_id               Train_21469\n",
      "grapheme_root                   85\n",
      "vowel_diacritic                  2\n",
      "consonant_diacritic              0\n",
      "grapheme                      ন্ডি\n",
      "pred_gr                         56\n",
      "pred_vd                          2\n",
      "pred_cd                          0\n",
      "ind                          21469\n",
      "gr_letter                      ন্ড\n",
      "cd_letter                        0\n",
      "vd_letter                        ি\n",
      "gr_pred_letter                   ড\n",
      "cd_pred_letter                   0\n",
      "vd_pred_letter                   ি\n",
      "Name: 4335, dtype: object\n"
     ]
    },
    {
     "data": {
      "image/png": "[encoded data removed]",
      "text/plain": [
       "<PIL.Image.Image image mode=L size=128x128 at 0x7F0DFF1AA7D0>"
      ]
     },
     "execution_count": 12,
     "metadata": {},
     "output_type": "execute_result"
    }
   ],
   "source": [
    "r = random.randint(0, len(miss_gr)-1)\n",
    "print(r, miss_gr.iloc[r])\n",
    "PIL.Image.fromarray(images[miss_gr.iloc[r].ind])"
   ]
  },
  {
   "cell_type": "code",
   "execution_count": 70,
   "metadata": {},
   "outputs": [
    {
     "data": {
      "image/png": "[encoded data removed]",
      "text/plain": [
       "<PIL.Image.Image image mode=L size=128x128 at 0x7F3810F84610>"
      ]
     },
     "execution_count": 70,
     "metadata": {},
     "output_type": "execute_result"
    }
   ],
   "source": [
    "PIL.Image.fromarray(aug(image=images[miss_gr.iloc[r].ind])[\"image\"])"
   ]
  },
  {
   "cell_type": "code",
   "execution_count": 98,
   "metadata": {},
   "outputs": [],
   "source": [
    "v = Cutout(p=1)(image=images[:10])[\"image\"]"
   ]
  },
  {
   "cell_type": "code",
   "execution_count": 99,
   "metadata": {},
   "outputs": [
    {
     "data": {
      "image/png": "[encoded data removed]",
      "text/plain": [
       "<PIL.Image.Image image mode=1 size=128x128 at 0x7F38111D4190>"
      ]
     },
     "execution_count": 99,
     "metadata": {},
     "output_type": "execute_result"
    }
   ],
   "source": [
    "PIL.Image.fromarray(v.mean(0).astype(np.uint8) > 0)"
   ]
  },
  {
   "cell_type": "code",
   "execution_count": 94,
   "metadata": {},
   "outputs": [
    {
     "data": {
      "text/plain": [
       "(128, 128)"
      ]
     },
     "execution_count": 94,
     "metadata": {},
     "output_type": "execute_result"
    }
   ],
   "source": [
    "v.sum(0).shape"
   ]
  },
  {
   "cell_type": "code",
   "execution_count": null,
   "metadata": {},
   "outputs": [],
   "source": []
  }
 ],
 "metadata": {
  "kernelspec": {
   "display_name": "Python 3",
   "language": "python",
   "name": "python3"
  },
  "language_info": {
   "codemirror_mode": {
    "name": "ipython",
    "version": 3
   },
   "file_extension": ".py",
   "mimetype": "text/x-python",
   "name": "python",
   "nbconvert_exporter": "python",
   "pygments_lexer": "ipython3",
   "version": "3.7.4"
  }
 },
 "nbformat": 4,
 "nbformat_minor": 4
}
